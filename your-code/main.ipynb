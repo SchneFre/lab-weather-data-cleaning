{
 "cells": [
  {
   "cell_type": "markdown",
   "metadata": {},
   "source": [
    "# Introduction to Data Cleaning\n",
    "This notebook will guide you through the process of cleaning and preparing the weather dataset for analysis.\n"
   ]
  },
  {
   "cell_type": "markdown",
   "metadata": {},
   "source": [
    "\n",
    "## Step 1: Load and Explore the Dataset\n",
    "### Task:\n",
    "- Import necessary libraries (e.g., pandas).\n",
    "- Load the weather dataset into a DataFrame.\n",
    "- Explore the structure and summary statistics of the dataset.\n"
   ]
  },
  {
   "cell_type": "code",
   "execution_count": null,
   "metadata": {
    "vscode": {
     "languageId": "plaintext"
    }
   },
   "outputs": [],
   "source": []
  },
  {
   "cell_type": "markdown",
   "metadata": {},
   "source": [
    "\n",
    "## Step 2: Handle Missing Values\n",
    "### Task:\n",
    "- Identify missing values in the dataset.\n",
    "- Apply appropriate methods to handle these missing values (e.g., imputation or removal).\n"
   ]
  },
  {
   "cell_type": "code",
   "execution_count": null,
   "metadata": {
    "vscode": {
     "languageId": "plaintext"
    }
   },
   "outputs": [],
   "source": []
  },
  {
   "cell_type": "markdown",
   "metadata": {},
   "source": [
    "\n",
    "## Step 3: Correct Data Types\n",
    "### Task:\n",
    "- Inspect the data types of each column.\n",
    "- Convert columns to their appropriate data types (e.g., dates, numeric values).\n"
   ]
  },
  {
   "cell_type": "code",
   "execution_count": null,
   "metadata": {
    "vscode": {
     "languageId": "plaintext"
    }
   },
   "outputs": [],
   "source": []
  },
  {
   "cell_type": "markdown",
   "metadata": {},
   "source": [
    "\n",
    "## Step 4: Tidy the Dataset\n",
    "### Task:\n",
    "- Reshape the dataset as needed to ensure it adheres to tidy data principles.\n",
    "- Use techniques such as melting or pivoting to organize variables into columns.\n"
   ]
  },
  {
   "cell_type": "code",
   "execution_count": null,
   "metadata": {
    "vscode": {
     "languageId": "plaintext"
    }
   },
   "outputs": [],
   "source": []
  },
  {
   "cell_type": "markdown",
   "metadata": {},
   "source": [
    "\n",
    "## Step 5: Validate and Save\n",
    "### Task:\n",
    "- Ensure that your cleaned dataset is free of inconsistencies.\n",
    "- Save the cleaned dataset as `cleaned_weather.csv`.\n"
   ]
  },
  {
   "cell_type": "code",
   "execution_count": null,
   "metadata": {
    "vscode": {
     "languageId": "plaintext"
    }
   },
   "outputs": [],
   "source": []
  },
  {
   "cell_type": "markdown",
   "metadata": {},
   "source": [
    "\n",
    "## Step 6: Bonus Task - Outlier Detection\n",
    "### Task:\n",
    "- Identify any outliers in the cleaned dataset.\n",
    "- Create a separate DataFrame containing these outliers and save it as `outliers.csv`.\n"
   ]
  },
  {
   "cell_type": "code",
   "execution_count": null,
   "metadata": {
    "vscode": {
     "languageId": "plaintext"
    }
   },
   "outputs": [],
   "source": []
  }
 ],
 "metadata": {
  "kernelspec": {
   "display_name": "Python 3",
   "language": "python",
   "name": "python3"
  },
  "language_info": {
   "codemirror_mode": {
    "name": "ipython",
    "version": 3
   },
   "file_extension": ".py",
   "mimetype": "text/x-python",
   "name": "python",
   "nbconvert_exporter": "python",
   "pygments_lexer": "ipython3",
   "version": "3.6.5"
  }
 },
 "nbformat": 4,
 "nbformat_minor": 2
}
